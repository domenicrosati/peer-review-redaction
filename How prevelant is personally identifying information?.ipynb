{
 "cells": [
  {
   "cell_type": "markdown",
   "id": "0f7947c8",
   "metadata": {},
   "source": [
    "# How prevelant is personally identifying information?\n",
    "\n",
    "Below we use the PeerRead reviews to run a NER algorithmn through simply to count whether people are detected or not. A JSON file is written for manual error analysis."
   ]
  },
  {
   "cell_type": "markdown",
   "id": "e478ec19",
   "metadata": {},
   "source": [
    "## Collect PeerRead Reviews"
   ]
  },
  {
   "cell_type": "code",
   "execution_count": 1,
   "id": "19cda173",
   "metadata": {},
   "outputs": [
    {
     "name": "stdout",
     "output_type": "stream",
     "text": [
      "fatal: destination path 'PeerRead' already exists and is not an empty directory.\r\n"
     ]
    }
   ],
   "source": [
    "!git clone https://github.com/allenai/PeerRead.git"
   ]
  },
  {
   "cell_type": "code",
   "execution_count": 2,
   "id": "cadec440",
   "metadata": {},
   "outputs": [],
   "source": [
    "import json\n",
    "import os"
   ]
  },
  {
   "cell_type": "code",
   "execution_count": 3,
   "id": "fbfff025",
   "metadata": {},
   "outputs": [],
   "source": [
    "DATA_PATH = './PeerRead/data'"
   ]
  },
  {
   "cell_type": "code",
   "execution_count": 4,
   "id": "0ac7999f",
   "metadata": {},
   "outputs": [],
   "source": [
    "reviews = []\n",
    "for folder in os.listdir(DATA_PATH):\n",
    "    if folder in ['acl_accepted.txt', 'nips_2013-2017', 'arxiv.cs.lg_2007-2017', 'arxiv.cs.cl_2007-2017', 'arxiv.cs.ai_2007-2017']:\n",
    "        continue\n",
    "    \n",
    "    for split in ['dev', 'train', 'test']:\n",
    "        review_folder = os.path.join(DATA_PATH, folder, split, 'reviews')\n",
    "        for rev in os.listdir(review_folder):\n",
    "            if rev:\n",
    "                with open(os.path.join(review_folder, rev)) as f:\n",
    "                    reviews.append(json.load(f))\n"
   ]
  },
  {
   "cell_type": "code",
   "execution_count": 5,
   "id": "8a1face7",
   "metadata": {},
   "outputs": [
    {
     "data": {
      "text/plain": [
       "586"
      ]
     },
     "execution_count": 5,
     "metadata": {},
     "output_type": "execute_result"
    }
   ],
   "source": [
    "len(reviews) # this is actually the number of reviewed docs."
   ]
  },
  {
   "cell_type": "code",
   "execution_count": 6,
   "id": "2f69c9ae",
   "metadata": {},
   "outputs": [
    {
     "name": "stdout",
     "output_type": "stream",
     "text": [
      "5798\n"
     ]
    }
   ],
   "source": [
    "review_with_docs = 0\n",
    "for reviewed_doc in reviews:\n",
    "    for review in reviewed_doc['reviews']:\n",
    "        if review['comments']:\n",
    "            review_with_docs += 1\n",
    "print(review_with_docs)"
   ]
  },
  {
   "cell_type": "markdown",
   "id": "22ac12d7",
   "metadata": {},
   "source": [
    "## Run Spacy NER over review and analyze entities"
   ]
  },
  {
   "cell_type": "code",
   "execution_count": 7,
   "id": "19e92df0",
   "metadata": {},
   "outputs": [],
   "source": [
    "import spacy"
   ]
  },
  {
   "cell_type": "code",
   "execution_count": 8,
   "id": "05ff8034",
   "metadata": {},
   "outputs": [],
   "source": [
    "nlp = spacy.load(\"en_core_web_trf\") # python -m spacy download en_core_web_trf if you haven't"
   ]
  },
  {
   "cell_type": "code",
   "execution_count": 9,
   "id": "66abe834",
   "metadata": {},
   "outputs": [],
   "source": [
    "entities_of_interest = ['PERSON']"
   ]
  },
  {
   "cell_type": "code",
   "execution_count": 10,
   "id": "3ca23652",
   "metadata": {},
   "outputs": [
    {
     "name": "stderr",
     "output_type": "stream",
     "text": [
      "Token indices sequence length is longer than the specified maximum sequence length for this model (1170 > 512). Running this sequence through the model will result in indexing errors\n"
     ]
    }
   ],
   "source": [
    "reviews_with_people = []\n",
    "for reviewed_doc in reviews:\n",
    "    for review in reviewed_doc['reviews']:\n",
    "        doc = nlp(review['comments'])\n",
    "        people = [ent for ent in doc.ents if ent.label_ in entities_of_interest]\n",
    "        if len(people) > 0:\n",
    "            reviews_with_people.append((people, doc))"
   ]
  },
  {
   "cell_type": "code",
   "execution_count": 11,
   "id": "1ec60b25",
   "metadata": {},
   "outputs": [],
   "source": [
    "import csv   \n",
    "\n",
    "with open('reviews_with_people.json', 'w') as file:\n",
    "    json.dump([{\n",
    "        'people': [str(person) for person in review[0]],\n",
    "        'review': str(review[1])\n",
    "    } for review in reviews_with_people], file, indent = 2)"
   ]
  },
  {
   "cell_type": "code",
   "execution_count": 14,
   "id": "689b92d0",
   "metadata": {},
   "outputs": [
    {
     "name": "stdout",
     "output_type": "stream",
     "text": [
      "28% of reviews have people mentions. 1641 review with people out of 5798\n"
     ]
    }
   ],
   "source": [
    "print(f\"{len(reviews_with_people) / review_with_docs:.0%} of reviews have people mentions. {len(reviews_with_people)} review with people out of {review_with_docs}\") # 28% of reviews have people mentions"
   ]
  }
 ],
 "metadata": {
  "kernelspec": {
   "display_name": "Python 3",
   "language": "python",
   "name": "python3"
  },
  "language_info": {
   "codemirror_mode": {
    "name": "ipython",
    "version": 3
   },
   "file_extension": ".py",
   "mimetype": "text/x-python",
   "name": "python",
   "nbconvert_exporter": "python",
   "pygments_lexer": "ipython3",
   "version": "3.9.0"
  },
  "notify_time": "0"
 },
 "nbformat": 4,
 "nbformat_minor": 5
}
